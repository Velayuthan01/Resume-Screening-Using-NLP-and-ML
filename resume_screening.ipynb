{
 "cells": [
  {
   "cell_type": "code",
   "execution_count": 2,
   "id": "cf0c13c5-2279-446c-aa99-c4791089974a",
   "metadata": {},
   "outputs": [],
   "source": [
    "import pandas as pd\n",
    "import numpy as np\n",
    "import matplotlib.pyplot as plt"
   ]
  },
  {
   "cell_type": "code",
   "execution_count": 2,
   "id": "f5dbfde4-5824-4775-b744-86d34617ae39",
   "metadata": {},
   "outputs": [
    {
     "name": "stdout",
     "output_type": "stream",
     "text": [
      "Requirement already satisfied: seaborn in c:\\users\\velur\\appdata\\local\\programs\\python\\python312\\lib\\site-packages (0.13.2)\n",
      "Requirement already satisfied: numpy!=1.24.0,>=1.20 in c:\\users\\velur\\appdata\\local\\programs\\python\\python312\\lib\\site-packages (from seaborn) (1.26.4)\n",
      "Requirement already satisfied: pandas>=1.2 in c:\\users\\velur\\appdata\\local\\programs\\python\\python312\\lib\\site-packages (from seaborn) (2.2.3)\n",
      "Requirement already satisfied: matplotlib!=3.6.1,>=3.4 in c:\\users\\velur\\appdata\\local\\programs\\python\\python312\\lib\\site-packages (from seaborn) (3.9.2)\n",
      "Requirement already satisfied: contourpy>=1.0.1 in c:\\users\\velur\\appdata\\local\\programs\\python\\python312\\lib\\site-packages (from matplotlib!=3.6.1,>=3.4->seaborn) (1.3.1)\n",
      "Requirement already satisfied: cycler>=0.10 in c:\\users\\velur\\appdata\\local\\programs\\python\\python312\\lib\\site-packages (from matplotlib!=3.6.1,>=3.4->seaborn) (0.12.1)\n",
      "Requirement already satisfied: fonttools>=4.22.0 in c:\\users\\velur\\appdata\\local\\programs\\python\\python312\\lib\\site-packages (from matplotlib!=3.6.1,>=3.4->seaborn) (4.55.0)\n",
      "Requirement already satisfied: kiwisolver>=1.3.1 in c:\\users\\velur\\appdata\\local\\programs\\python\\python312\\lib\\site-packages (from matplotlib!=3.6.1,>=3.4->seaborn) (1.4.7)\n",
      "Requirement already satisfied: packaging>=20.0 in c:\\users\\velur\\appdata\\local\\programs\\python\\python312\\lib\\site-packages (from matplotlib!=3.6.1,>=3.4->seaborn) (24.1)\n",
      "Requirement already satisfied: pillow>=8 in c:\\users\\velur\\appdata\\local\\programs\\python\\python312\\lib\\site-packages (from matplotlib!=3.6.1,>=3.4->seaborn) (11.0.0)\n",
      "Requirement already satisfied: pyparsing>=2.3.1 in c:\\users\\velur\\appdata\\local\\programs\\python\\python312\\lib\\site-packages (from matplotlib!=3.6.1,>=3.4->seaborn) (3.2.0)\n",
      "Requirement already satisfied: python-dateutil>=2.7 in c:\\users\\velur\\appdata\\local\\programs\\python\\python312\\lib\\site-packages (from matplotlib!=3.6.1,>=3.4->seaborn) (2.9.0.post0)\n",
      "Requirement already satisfied: pytz>=2020.1 in c:\\users\\velur\\appdata\\local\\programs\\python\\python312\\lib\\site-packages (from pandas>=1.2->seaborn) (2024.2)\n",
      "Requirement already satisfied: tzdata>=2022.7 in c:\\users\\velur\\appdata\\local\\programs\\python\\python312\\lib\\site-packages (from pandas>=1.2->seaborn) (2024.2)\n",
      "Requirement already satisfied: six>=1.5 in c:\\users\\velur\\appdata\\local\\programs\\python\\python312\\lib\\site-packages (from python-dateutil>=2.7->matplotlib!=3.6.1,>=3.4->seaborn) (1.16.0)\n"
     ]
    },
    {
     "name": "stderr",
     "output_type": "stream",
     "text": [
      "\n",
      "[notice] A new release of pip is available: 24.3.1 -> 25.0\n",
      "[notice] To update, run: python.exe -m pip install --upgrade pip\n"
     ]
    }
   ],
   "source": [
    "!pip install seaborn"
   ]
  },
  {
   "cell_type": "code",
   "execution_count": 3,
   "id": "39437c77-3bde-4628-b926-c4654fcd4143",
   "metadata": {},
   "outputs": [],
   "source": [
    "import seaborn as sns"
   ]
  },
  {
   "cell_type": "code",
   "execution_count": 4,
   "id": "32ae0f5b-a9d0-4a75-bf9d-762369b10cc3",
   "metadata": {},
   "outputs": [],
   "source": [
    "df = pd.read_csv(r\"C:\\Users\\velur\\Downloads\\archive (2)\\Resume\\Resume.csv\")"
   ]
  },
  {
   "cell_type": "code",
   "execution_count": 5,
   "id": "cae8ac80-c128-4abf-a674-e78c1db4a613",
   "metadata": {},
   "outputs": [
    {
     "data": {
      "text/html": [
       "<div>\n",
       "<style scoped>\n",
       "    .dataframe tbody tr th:only-of-type {\n",
       "        vertical-align: middle;\n",
       "    }\n",
       "\n",
       "    .dataframe tbody tr th {\n",
       "        vertical-align: top;\n",
       "    }\n",
       "\n",
       "    .dataframe thead th {\n",
       "        text-align: right;\n",
       "    }\n",
       "</style>\n",
       "<table border=\"1\" class=\"dataframe\">\n",
       "  <thead>\n",
       "    <tr style=\"text-align: right;\">\n",
       "      <th></th>\n",
       "      <th>ID</th>\n",
       "      <th>Resume_str</th>\n",
       "      <th>Resume_html</th>\n",
       "      <th>Category</th>\n",
       "    </tr>\n",
       "  </thead>\n",
       "  <tbody>\n",
       "    <tr>\n",
       "      <th>0</th>\n",
       "      <td>16852973</td>\n",
       "      <td>HR ADMINISTRATOR/MARKETING ASSOCIATE\\...</td>\n",
       "      <td>&lt;div class=\"fontsize fontface vmargins hmargin...</td>\n",
       "      <td>HR</td>\n",
       "    </tr>\n",
       "    <tr>\n",
       "      <th>1</th>\n",
       "      <td>22323967</td>\n",
       "      <td>HR SPECIALIST, US HR OPERATIONS      ...</td>\n",
       "      <td>&lt;div class=\"fontsize fontface vmargins hmargin...</td>\n",
       "      <td>HR</td>\n",
       "    </tr>\n",
       "    <tr>\n",
       "      <th>2</th>\n",
       "      <td>33176873</td>\n",
       "      <td>HR DIRECTOR       Summary      Over 2...</td>\n",
       "      <td>&lt;div class=\"fontsize fontface vmargins hmargin...</td>\n",
       "      <td>HR</td>\n",
       "    </tr>\n",
       "    <tr>\n",
       "      <th>3</th>\n",
       "      <td>27018550</td>\n",
       "      <td>HR SPECIALIST       Summary    Dedica...</td>\n",
       "      <td>&lt;div class=\"fontsize fontface vmargins hmargin...</td>\n",
       "      <td>HR</td>\n",
       "    </tr>\n",
       "    <tr>\n",
       "      <th>4</th>\n",
       "      <td>17812897</td>\n",
       "      <td>HR MANAGER         Skill Highlights  ...</td>\n",
       "      <td>&lt;div class=\"fontsize fontface vmargins hmargin...</td>\n",
       "      <td>HR</td>\n",
       "    </tr>\n",
       "  </tbody>\n",
       "</table>\n",
       "</div>"
      ],
      "text/plain": [
       "         ID                                         Resume_str  \\\n",
       "0  16852973           HR ADMINISTRATOR/MARKETING ASSOCIATE\\...   \n",
       "1  22323967           HR SPECIALIST, US HR OPERATIONS      ...   \n",
       "2  33176873           HR DIRECTOR       Summary      Over 2...   \n",
       "3  27018550           HR SPECIALIST       Summary    Dedica...   \n",
       "4  17812897           HR MANAGER         Skill Highlights  ...   \n",
       "\n",
       "                                         Resume_html Category  \n",
       "0  <div class=\"fontsize fontface vmargins hmargin...       HR  \n",
       "1  <div class=\"fontsize fontface vmargins hmargin...       HR  \n",
       "2  <div class=\"fontsize fontface vmargins hmargin...       HR  \n",
       "3  <div class=\"fontsize fontface vmargins hmargin...       HR  \n",
       "4  <div class=\"fontsize fontface vmargins hmargin...       HR  "
      ]
     },
     "execution_count": 5,
     "metadata": {},
     "output_type": "execute_result"
    }
   ],
   "source": [
    "df.head()"
   ]
  },
  {
   "cell_type": "code",
   "execution_count": 6,
   "id": "bd8ba0ca-f4e2-4845-bdd0-0104390040be",
   "metadata": {},
   "outputs": [
    {
     "data": {
      "text/plain": [
       "(2484, 4)"
      ]
     },
     "execution_count": 6,
     "metadata": {},
     "output_type": "execute_result"
    }
   ],
   "source": [
    "df.shape"
   ]
  },
  {
   "cell_type": "code",
   "execution_count": 7,
   "id": "63efc0ed-fc81-4348-9300-2c9000921dc3",
   "metadata": {},
   "outputs": [
    {
     "data": {
      "text/plain": [
       "ID             0\n",
       "Resume_str     0\n",
       "Resume_html    0\n",
       "Category       0\n",
       "dtype: int64"
      ]
     },
     "execution_count": 7,
     "metadata": {},
     "output_type": "execute_result"
    }
   ],
   "source": [
    "df.isna().sum()"
   ]
  },
  {
   "cell_type": "code",
   "execution_count": 8,
   "id": "be5cf422-b88c-4c64-9c34-aac8e73cf685",
   "metadata": {},
   "outputs": [],
   "source": [
    "df1=df.drop(columns=[\"ID\",\"Resume_html\"],axis=1)"
   ]
  },
  {
   "cell_type": "code",
   "execution_count": 9,
   "id": "767b47d0-9c55-4e71-b275-09a4e3541ec6",
   "metadata": {},
   "outputs": [
    {
     "data": {
      "text/html": [
       "<div>\n",
       "<style scoped>\n",
       "    .dataframe tbody tr th:only-of-type {\n",
       "        vertical-align: middle;\n",
       "    }\n",
       "\n",
       "    .dataframe tbody tr th {\n",
       "        vertical-align: top;\n",
       "    }\n",
       "\n",
       "    .dataframe thead th {\n",
       "        text-align: right;\n",
       "    }\n",
       "</style>\n",
       "<table border=\"1\" class=\"dataframe\">\n",
       "  <thead>\n",
       "    <tr style=\"text-align: right;\">\n",
       "      <th></th>\n",
       "      <th>Resume_str</th>\n",
       "      <th>Category</th>\n",
       "    </tr>\n",
       "  </thead>\n",
       "  <tbody>\n",
       "    <tr>\n",
       "      <th>0</th>\n",
       "      <td>HR ADMINISTRATOR/MARKETING ASSOCIATE\\...</td>\n",
       "      <td>HR</td>\n",
       "    </tr>\n",
       "    <tr>\n",
       "      <th>1</th>\n",
       "      <td>HR SPECIALIST, US HR OPERATIONS      ...</td>\n",
       "      <td>HR</td>\n",
       "    </tr>\n",
       "    <tr>\n",
       "      <th>2</th>\n",
       "      <td>HR DIRECTOR       Summary      Over 2...</td>\n",
       "      <td>HR</td>\n",
       "    </tr>\n",
       "    <tr>\n",
       "      <th>3</th>\n",
       "      <td>HR SPECIALIST       Summary    Dedica...</td>\n",
       "      <td>HR</td>\n",
       "    </tr>\n",
       "    <tr>\n",
       "      <th>4</th>\n",
       "      <td>HR MANAGER         Skill Highlights  ...</td>\n",
       "      <td>HR</td>\n",
       "    </tr>\n",
       "    <tr>\n",
       "      <th>...</th>\n",
       "      <td>...</td>\n",
       "      <td>...</td>\n",
       "    </tr>\n",
       "    <tr>\n",
       "      <th>2479</th>\n",
       "      <td>RANK: SGT/E-5 NON- COMMISSIONED OFFIC...</td>\n",
       "      <td>AVIATION</td>\n",
       "    </tr>\n",
       "    <tr>\n",
       "      <th>2480</th>\n",
       "      <td>GOVERNMENT RELATIONS, COMMUNICATIONS ...</td>\n",
       "      <td>AVIATION</td>\n",
       "    </tr>\n",
       "    <tr>\n",
       "      <th>2481</th>\n",
       "      <td>GEEK SQUAD AGENT         Professional...</td>\n",
       "      <td>AVIATION</td>\n",
       "    </tr>\n",
       "    <tr>\n",
       "      <th>2482</th>\n",
       "      <td>PROGRAM DIRECTOR / OFFICE MANAGER    ...</td>\n",
       "      <td>AVIATION</td>\n",
       "    </tr>\n",
       "    <tr>\n",
       "      <th>2483</th>\n",
       "      <td>STOREKEEPER II       Professional Sum...</td>\n",
       "      <td>AVIATION</td>\n",
       "    </tr>\n",
       "  </tbody>\n",
       "</table>\n",
       "<p>2484 rows × 2 columns</p>\n",
       "</div>"
      ],
      "text/plain": [
       "                                             Resume_str  Category\n",
       "0              HR ADMINISTRATOR/MARKETING ASSOCIATE\\...        HR\n",
       "1              HR SPECIALIST, US HR OPERATIONS      ...        HR\n",
       "2              HR DIRECTOR       Summary      Over 2...        HR\n",
       "3              HR SPECIALIST       Summary    Dedica...        HR\n",
       "4              HR MANAGER         Skill Highlights  ...        HR\n",
       "...                                                 ...       ...\n",
       "2479           RANK: SGT/E-5 NON- COMMISSIONED OFFIC...  AVIATION\n",
       "2480           GOVERNMENT RELATIONS, COMMUNICATIONS ...  AVIATION\n",
       "2481           GEEK SQUAD AGENT         Professional...  AVIATION\n",
       "2482           PROGRAM DIRECTOR / OFFICE MANAGER    ...  AVIATION\n",
       "2483           STOREKEEPER II       Professional Sum...  AVIATION\n",
       "\n",
       "[2484 rows x 2 columns]"
      ]
     },
     "execution_count": 9,
     "metadata": {},
     "output_type": "execute_result"
    }
   ],
   "source": [
    "df1"
   ]
  },
  {
   "cell_type": "code",
   "execution_count": 10,
   "id": "d35d1d1d-9fbc-4b8f-a2fb-04658ac05e3b",
   "metadata": {},
   "outputs": [
    {
     "data": {
      "text/plain": [
       "(2484, 2)"
      ]
     },
     "execution_count": 10,
     "metadata": {},
     "output_type": "execute_result"
    }
   ],
   "source": [
    "df1.shape"
   ]
  },
  {
   "cell_type": "markdown",
   "id": "4addbaa0-0ac9-44da-8430-7d512368bd33",
   "metadata": {},
   "source": [
    "# EXPLORING CATEGORIES"
   ]
  },
  {
   "cell_type": "code",
   "execution_count": 11,
   "id": "8cc236e3-31af-40dd-b34a-a3801035a918",
   "metadata": {},
   "outputs": [
    {
     "data": {
      "text/plain": [
       "Category\n",
       "INFORMATION-TECHNOLOGY    120\n",
       "BUSINESS-DEVELOPMENT      120\n",
       "FINANCE                   118\n",
       "ADVOCATE                  118\n",
       "ACCOUNTANT                118\n",
       "ENGINEERING               118\n",
       "CHEF                      118\n",
       "AVIATION                  117\n",
       "FITNESS                   117\n",
       "SALES                     116\n",
       "BANKING                   115\n",
       "HEALTHCARE                115\n",
       "CONSULTANT                115\n",
       "CONSTRUCTION              112\n",
       "PUBLIC-RELATIONS          111\n",
       "HR                        110\n",
       "DESIGNER                  107\n",
       "ARTS                      103\n",
       "TEACHER                   102\n",
       "APPAREL                    97\n",
       "DIGITAL-MEDIA              96\n",
       "AGRICULTURE                63\n",
       "AUTOMOBILE                 36\n",
       "BPO                        22\n",
       "Name: count, dtype: int64"
      ]
     },
     "execution_count": 11,
     "metadata": {},
     "output_type": "execute_result"
    }
   ],
   "source": [
    "df1[\"Category\"].value_counts()"
   ]
  },
  {
   "cell_type": "code",
   "execution_count": 12,
   "id": "bc329ef5-3deb-4e3d-9f90-d0e4ad72d08c",
   "metadata": {},
   "outputs": [
    {
     "data": {
      "image/png": "[encoded data removed]",
      "text/plain": [
       "<Figure size 2000x800 with 1 Axes>"
      ]
     },
     "metadata": {},
     "output_type": "display_data"
    }
   ],
   "source": [
    "plt.figure(figsize=(20,8))\n",
    "sns.countplot(x=df1[\"Category\"])\n",
    "plt.xlabel(\"Category\")\n",
    "plt.ylabel(\"count\")\n",
    "plt.title(\"Exploring Categories\")\n",
    "plt.xticks(rotation=90)\n",
    "plt.show()"
   ]
  },
  {
   "cell_type": "code",
   "execution_count": 13,
   "id": "a55c4592-3873-4da2-9e6b-83e539aef639",
   "metadata": {},
   "outputs": [
    {
     "data": {
      "text/plain": [
       "array(['HR', 'DESIGNER', 'INFORMATION-TECHNOLOGY', 'TEACHER', 'ADVOCATE',\n",
       "       'BUSINESS-DEVELOPMENT', 'HEALTHCARE', 'FITNESS', 'AGRICULTURE',\n",
       "       'BPO', 'SALES', 'CONSULTANT', 'DIGITAL-MEDIA', 'AUTOMOBILE',\n",
       "       'CHEF', 'FINANCE', 'APPAREL', 'ENGINEERING', 'ACCOUNTANT',\n",
       "       'CONSTRUCTION', 'PUBLIC-RELATIONS', 'BANKING', 'ARTS', 'AVIATION'],\n",
       "      dtype=object)"
      ]
     },
     "execution_count": 13,
     "metadata": {},
     "output_type": "execute_result"
    }
   ],
   "source": [
    "df1[\"Category\"].unique()"
   ]
  },
  {
   "cell_type": "code",
   "execution_count": 14,
   "id": "99d620a7-7746-41dd-b4ba-dab28f3a4ec1",
   "metadata": {},
   "outputs": [
    {
     "data": {
      "image/png": "[encoded data removed]",
      "text/plain": [
       "<Figure size 1500x1000 with 1 Axes>"
      ]
     },
     "metadata": {},
     "output_type": "display_data"
    }
   ],
   "source": [
    "count= df1[\"Category\"].value_counts()\n",
    "Label=df1[\"Category\"].unique()\n",
    "plt.figure(figsize=(15,10))\n",
    "plt.pie(count,labels=Label,autopct=\"%1.1f%%\",colors=plt.cm.cividis(np.linspace(0,1,5)))\n",
    "plt.show()"
   ]
  },
  {
   "cell_type": "markdown",
   "id": "8185abc9-0622-41f0-baca-2d1f8eb0d341",
   "metadata": {},
   "source": [
    "# Exploring Resume"
   ]
  },
  {
   "cell_type": "code",
   "execution_count": 15,
   "id": "67d060c1-f10d-47a8-ae72-d24a5880aa8b",
   "metadata": {},
   "outputs": [
    {
     "data": {
      "text/plain": [
       "'HR'"
      ]
     },
     "execution_count": 15,
     "metadata": {},
     "output_type": "execute_result"
    }
   ],
   "source": [
    "df1[\"Category\"][0]"
   ]
  },
  {
   "cell_type": "code",
   "execution_count": 16,
   "id": "b0178e20-d038-4259-a59c-b19c5f6a8ed2",
   "metadata": {},
   "outputs": [
    {
     "data": {
      "text/plain": [
       "\"         HR ADMINISTRATOR/MARKETING ASSOCIATE\\n\\nHR ADMINISTRATOR       Summary     Dedicated Customer Service Manager with 15+ years of experience in Hospitality and Customer Service Management.   Respected builder and leader of customer-focused teams; strives to instill a shared, enthusiastic commitment to customer service.         Highlights         Focused on customer satisfaction  Team management  Marketing savvy  Conflict resolution techniques     Training and development  Skilled multi-tasker  Client relations specialist           Accomplishments      Missouri DOT Supervisor Training Certification  Certified by IHG in Customer Loyalty and Marketing by Segment   Hilton Worldwide General Manager Training Certification  Accomplished Trainer for cross server hospitality systems such as    Hilton OnQ  ,   Micros    Opera PMS   , Fidelio    OPERA    Reservation System (ORS) ,   Holidex    Completed courses and seminars in customer service, sales strategies, inventory control, loss prevention, safety, time management, leadership and performance assessment.        Experience      HR Administrator/Marketing Associate\\n\\nHR Administrator     Dec 2013   to   Current      Company Name   －   City  ,   State     Helps to develop policies, directs and coordinates activities such as employment, compensation, labor relations, benefits, training, and employee services.  Prepares employee separation notices and related documentation  Keeps records of benefits plans participation such as insurance and pension plan, personnel transactions such as hires, promotions, transfers, performance reviews, and terminations, and employee statistics for government reporting.  Advises management in appropriate resolution of employee relations issues.  Administers benefits programs such as life, health, dental, insurance, pension plans, vacation, sick leave, leave of absence, and employee assistance.     Marketing Associate \\xa0   Designed and created marketing collateral for sales meetings, trade shows and company executives.  Managed the in-house advertising program consisting of print and media collateral pieces.  Assisted in the complete design and launch of the company's website in 2 months.  Created an official company page on Facebook to facilitate interaction with customers.  Analyzed ratings and programming features of competitors to evaluate the effectiveness of marketing strategies.         Advanced Medical Claims Analyst     Mar 2012   to   Dec 2013      Company Name   －   City  ,   State     Reviewed medical bills for the accuracy of the treatments, tests, and hospital stays prior to sanctioning the claims.  Trained to interpret the codes (ICD-9, CPT) and terminology commonly used in medical billing to fully understand the paperwork that is submitted by healthcare providers.  Required to have organizational and analytical skills as well as computer skills, knowledge of medical terminology and procedures, statistics, billing standards, data analysis and laws regarding medical billing.         Assistant General Manager     Jun 2010   to   Dec 2010      Company Name   －   City  ,   State     Performed duties including but not limited to, budgeting and financial management, accounting, human resources, payroll and purchasing.  Established and maintained close working relationships with all departments of the hotel to ensure maximum operation, productivity, morale and guest service.  Handled daily operations and reported directly to the corporate office.  Hired and trained staff on overall objectives and goals with an emphasis on high customer service.  Marketing and Advertising, working on public relations with the media, government and local businesses and Chamber of Commerce.         Executive Support / Marketing Assistant     Jul 2007   to   Jun 2010      Company Name   －   City  ,   State     Provided assistance to various department heads - Executive, Marketing, Customer Service, Human Resources.  Managed front-end operations to ensure friendly and efficient transactions.  Ensured the swift resolution of customer issues to preserve customer loyalty while complying with company policies.  Exemplified the second-to-none customer service delivery in all interactions with customers and potential clients.         Reservation & Front Office Manager     Jun 2004   to   Jul 2007      Company Name   －   City  ,   State          Owner/ Partner     Dec 2001   to   May 2004      Company Name   －   City  ,   State          Price Integrity Coordinator     Aug 1999   to   Dec 2001      Company Name   －   City  ,   State          Education      N/A  ,   Business Administration   1999     Jefferson College   －   City  ,   State       Business Administration  Marketing / Advertising         High School Diploma  ,   College Prep. studies   1998     Sainte Genevieve Senior High   －   City  ,   State       Awarded American Shrubel Leadership Scholarship to Jefferson College         Skills     Accounting, ads, advertising, analytical skills, benefits, billing, budgeting, clients, Customer Service, data analysis, delivery, documentation, employee relations, financial management, government relations, Human Resources, insurance, labor relations, layout, Marketing, marketing collateral, medical billing, medical terminology, office, organizational, payroll, performance reviews, personnel, policies, posters, presentations, public relations, purchasing, reporting, statistics, website.    \""
      ]
     },
     "execution_count": 16,
     "metadata": {},
     "output_type": "execute_result"
    }
   ],
   "source": [
    "df1[\"Resume_str\"][0]"
   ]
  },
  {
   "cell_type": "markdown",
   "id": "744ef204-2101-45aa-a412-8197ce75c59c",
   "metadata": {},
   "source": [
    "# Cleaning Data:\n",
    "##### 1.URL\n",
    "##### 2.hashtags\n",
    "##### 3.Mentions\n",
    "##### 4.Special Characters\n",
    "##### 5.Punctuations"
   ]
  },
  {
   "cell_type": "code",
   "execution_count": 17,
   "id": "2569153c-9d51-4e7c-a3ca-9585b420d84b",
   "metadata": {},
   "outputs": [],
   "source": [
    "import re\n",
    "def CleanResume(txt):\n",
    "    Cleantxt = re.sub(r'http\\S+',' ',txt)\n",
    "    Cleantxt = re.sub(r'@\\S+',' ',Cleantxt)\n",
    "    Cleantxt = re.sub(r'#\\S+',' ',Cleantxt)\n",
    "\n",
    "    return Cleantxt"
   ]
  },
  {
   "cell_type": "code",
   "execution_count": 18,
   "id": "38952db2-0abb-4a54-a88e-13e514436484",
   "metadata": {},
   "outputs": [
    {
     "data": {
      "text/plain": [
       "'My   website is like   and access it  '"
      ]
     },
     "execution_count": 18,
     "metadata": {},
     "output_type": "execute_result"
    }
   ],
   "source": [
    "# To remove websites and mails.\n",
    "CleanResume(\"My #Resume website is like http://helloworld and access it @gmail.com\")"
   ]
  },
  {
   "cell_type": "code",
   "execution_count": 19,
   "id": "c27fc840-cbb2-4f33-999b-ea29f94fa183",
   "metadata": {},
   "outputs": [],
   "source": [
    "import re\n",
    "def cleanResume(txt):\n",
    "    cleanText = re.sub(r'http\\S+', ' ', txt)  # Remove URLs\n",
    "    cleanText = re.sub(r'\\b(RT|cc)\\b', ' ', cleanText)  # Remove Twitter terms\n",
    "    cleanText = re.sub(r'@\\w+|#\\w+', ' ', cleanText)  # Remove mentions and hashtags\n",
    "    cleanText = re.sub(r'[!\"#$%&()*+,-./:;<=>?\\[\\]\\\\^_`{|}~]', ' ', cleanText)\n",
    "    cleanText = re.sub(r'[^\\x00-\\x7F]+', ' ', cleanText)  # Remove non-ASCII characters\n",
    "    cleanText = re.sub(r'\\d+', ' ', cleanText)  # Remove numbers (optional)\n",
    "    cleanText = re.sub(r'\\s+', ' ', cleanText).strip()  # Remove extra spaces and strip\n",
    "    return cleanText.lower() #change all characters into lower case"
   ]
  },
  {
   "cell_type": "code",
   "execution_count": 20,
   "id": "45e7d786-4109-4ca1-a6e8-2b020aa8d39d",
   "metadata": {},
   "outputs": [],
   "source": [
    "df1[\"Resume_str\"]= df1[\"Resume_str\"].apply(lambda x: cleanResume(x))"
   ]
  },
  {
   "cell_type": "code",
   "execution_count": 21,
   "id": "95ad910f-f716-4f03-a7b0-bc905141c274",
   "metadata": {},
   "outputs": [
    {
     "name": "stderr",
     "output_type": "stream",
     "text": [
      "[nltk_data] Downloading package stopwords to\n",
      "[nltk_data]     C:\\Users\\velur\\AppData\\Roaming\\nltk_data...\n",
      "[nltk_data]   Package stopwords is already up-to-date!\n"
     ]
    }
   ],
   "source": [
    "import nltk\n",
    "\n",
    "from nltk.corpus import stopwords\n",
    "nltk.download('stopwords')\n",
    "\n",
    "stop_words = set(stopwords.words('english'))\n"
   ]
  },
  {
   "cell_type": "code",
   "execution_count": 22,
   "id": "79fffe60-12cd-4ff0-ab5f-318e9e6140e2",
   "metadata": {},
   "outputs": [],
   "source": [
    "df1['Resume_str'] = df1['Resume_str'].apply(lambda x: ' '.join([word for word in x.split() if word.lower() not in stop_words]))"
   ]
  },
  {
   "cell_type": "code",
   "execution_count": 23,
   "id": "2af0b565-d64d-4fd6-b235-7be9418bbe6b",
   "metadata": {},
   "outputs": [
    {
     "data": {
      "text/plain": [
       "\"hr administrator marketing associate hr administrator summary dedicated customer service manager years experience hospitality customer service management respected builder leader customer focused teams strives instill shared enthusiastic commitment customer service highlights focused customer satisfaction team management marketing savvy conflict resolution techniques training development skilled multi tasker client relations specialist accomplishments missouri dot supervisor training certification certified ihg customer loyalty marketing segment hilton worldwide general manager training certification accomplished trainer cross server hospitality systems hilton onq micros opera pms fidelio opera reservation system ors holidex completed courses seminars customer service sales strategies inventory control loss prevention safety time management leadership performance assessment experience hr administrator marketing associate hr administrator dec current company name city state helps develop policies directs coordinates activities employment compensation labor relations benefits training employee services prepares employee separation notices related documentation keeps records benefits plans participation insurance pension plan personnel transactions hires promotions transfers performance reviews terminations employee statistics government reporting advises management appropriate resolution employee relations issues administers benefits programs life health dental insurance pension plans vacation sick leave leave absence employee assistance marketing associate designed created marketing collateral sales meetings trade shows company executives managed house advertising program consisting print media collateral pieces assisted complete design launch company's website months created official company page facebook facilitate interaction customers analyzed ratings programming features competitors evaluate effectiveness marketing strategies advanced medical claims analyst mar dec company name city state reviewed medical bills accuracy treatments tests hospital stays prior sanctioning claims trained interpret codes icd cpt terminology commonly used medical billing fully understand paperwork submitted healthcare providers required organizational analytical skills well computer skills knowledge medical terminology procedures statistics billing standards data analysis laws regarding medical billing assistant general manager jun dec company name city state performed duties including limited budgeting financial management accounting human resources payroll purchasing established maintained close working relationships departments hotel ensure maximum operation productivity morale guest service handled daily operations reported directly corporate office hired trained staff overall objectives goals emphasis high customer service marketing advertising working public relations media government local businesses chamber commerce executive support marketing assistant jul jun company name city state provided assistance various department heads executive marketing customer service human resources managed front end operations ensure friendly efficient transactions ensured swift resolution customer issues preserve customer loyalty complying company policies exemplified second none customer service delivery interactions customers potential clients reservation front office manager jun jul company name city state owner partner dec may company name city state price integrity coordinator aug dec company name city state education n business administration jefferson college city state business administration marketing advertising high school diploma college prep studies sainte genevieve senior high city state awarded american shrubel leadership scholarship jefferson college skills accounting ads advertising analytical skills benefits billing budgeting clients customer service data analysis delivery documentation employee relations financial management government relations human resources insurance labor relations layout marketing marketing collateral medical billing medical terminology office organizational payroll performance reviews personnel policies posters presentations public relations purchasing reporting statistics website\""
      ]
     },
     "execution_count": 23,
     "metadata": {},
     "output_type": "execute_result"
    }
   ],
   "source": [
    "df1[\"Resume_str\"][0]"
   ]
  },
  {
   "cell_type": "markdown",
   "id": "5d3662f1-1925-4ee1-9182-92408d46b4dd",
   "metadata": {},
   "source": [
    "# words into categorical values"
   ]
  },
  {
   "cell_type": "code",
   "execution_count": 24,
   "id": "c329dd5c-581e-4a40-83a9-17581cdcf488",
   "metadata": {},
   "outputs": [],
   "source": [
    "from sklearn.preprocessing import LabelEncoder\n",
    "le = LabelEncoder()"
   ]
  },
  {
   "cell_type": "code",
   "execution_count": 25,
   "id": "03f43384-2eb9-4180-a6b2-7f4c191159be",
   "metadata": {},
   "outputs": [],
   "source": [
    "df1[\"Category\"]=le.fit_transform(df1[\"Category\"])"
   ]
  },
  {
   "cell_type": "code",
   "execution_count": 26,
   "id": "df68ebc0-1920-485a-a07f-a442d2a30f4d",
   "metadata": {},
   "outputs": [
    {
     "data": {
      "text/html": [
       "<div>\n",
       "<style scoped>\n",
       "    .dataframe tbody tr th:only-of-type {\n",
       "        vertical-align: middle;\n",
       "    }\n",
       "\n",
       "    .dataframe tbody tr th {\n",
       "        vertical-align: top;\n",
       "    }\n",
       "\n",
       "    .dataframe thead th {\n",
       "        text-align: right;\n",
       "    }\n",
       "</style>\n",
       "<table border=\"1\" class=\"dataframe\">\n",
       "  <thead>\n",
       "    <tr style=\"text-align: right;\">\n",
       "      <th></th>\n",
       "      <th>Resume_str</th>\n",
       "      <th>Category</th>\n",
       "    </tr>\n",
       "  </thead>\n",
       "  <tbody>\n",
       "    <tr>\n",
       "      <th>0</th>\n",
       "      <td>hr administrator marketing associate hr admini...</td>\n",
       "      <td>19</td>\n",
       "    </tr>\n",
       "    <tr>\n",
       "      <th>1</th>\n",
       "      <td>hr specialist us hr operations summary versati...</td>\n",
       "      <td>19</td>\n",
       "    </tr>\n",
       "    <tr>\n",
       "      <th>2</th>\n",
       "      <td>hr director summary years experience recruitin...</td>\n",
       "      <td>19</td>\n",
       "    </tr>\n",
       "    <tr>\n",
       "      <th>3</th>\n",
       "      <td>hr specialist summary dedicated driven dynamic...</td>\n",
       "      <td>19</td>\n",
       "    </tr>\n",
       "    <tr>\n",
       "      <th>4</th>\n",
       "      <td>hr manager skill highlights hr skills hr depar...</td>\n",
       "      <td>19</td>\n",
       "    </tr>\n",
       "  </tbody>\n",
       "</table>\n",
       "</div>"
      ],
      "text/plain": [
       "                                          Resume_str  Category\n",
       "0  hr administrator marketing associate hr admini...        19\n",
       "1  hr specialist us hr operations summary versati...        19\n",
       "2  hr director summary years experience recruitin...        19\n",
       "3  hr specialist summary dedicated driven dynamic...        19\n",
       "4  hr manager skill highlights hr skills hr depar...        19"
      ]
     },
     "execution_count": 26,
     "metadata": {},
     "output_type": "execute_result"
    }
   ],
   "source": [
    "df1.head()"
   ]
  },
  {
   "cell_type": "code",
   "execution_count": 27,
   "id": "91f6f438-5da2-490c-b2a8-872f4dd396b8",
   "metadata": {},
   "outputs": [
    {
     "data": {
      "text/plain": [
       "array([19, 13, 20, 23,  1,  9, 18, 17,  2,  8, 22, 12, 14,  5, 10, 16,  3,\n",
       "       15,  0, 11, 21,  7,  4,  6])"
      ]
     },
     "execution_count": 27,
     "metadata": {},
     "output_type": "execute_result"
    }
   ],
   "source": [
    "df1[\"Category\"].unique()"
   ]
  },
  {
   "cell_type": "code",
   "execution_count": 28,
   "id": "fd28f053-7635-441f-897c-691f65866cfd",
   "metadata": {},
   "outputs": [],
   "source": [
    "# ['HR', 'DESIGNER', 'INFORMATION-TECHNOLOGY', 'TEACHER', 'ADVOCATE',\n",
    "   #    'BUSINESS-DEVELOPMENT', 'HEALTHCARE', 'FITNESS', 'AGRICULTURE',\n",
    "   #    'BPO', 'SALES', 'CONSULTANT', 'DIGITAL-MEDIA', 'AUTOMOBILE',\n",
    "   #    'CHEF', 'FINANCE', 'APPAREL', 'ENGINEERING', 'ACCOUNTANT',\n",
    "    #   'CONSTRUCTION', 'PUBLIC-RELATIONS', 'BANKING', 'ARTS', 'AVIATION']"
   ]
  },
  {
   "cell_type": "markdown",
   "id": "ae5dbdbf-6ae4-452c-86d1-6b63deed39aa",
   "metadata": {},
   "source": [
    "# Balance Classes"
   ]
  },
  {
   "cell_type": "code",
   "execution_count": 29,
   "id": "daaa41f3-cdba-41c0-9bc0-b7072d69876e",
   "metadata": {},
   "outputs": [
    {
     "name": "stdout",
     "output_type": "stream",
     "text": [
      "Original Category Distribution:\n",
      "Category\n",
      "20    120\n",
      "9     120\n",
      "16    118\n",
      "1     118\n",
      "0     118\n",
      "15    118\n",
      "10    118\n",
      "6     117\n",
      "17    117\n",
      "22    116\n",
      "7     115\n",
      "18    115\n",
      "12    115\n",
      "11    112\n",
      "21    111\n",
      "19    110\n",
      "13    107\n",
      "4     103\n",
      "23    102\n",
      "3      97\n",
      "14     96\n",
      "2      63\n",
      "5      36\n",
      "8      22\n",
      "Name: count, dtype: int64\n",
      "\n",
      "Balanced Category Distribution (After Oversampling):\n",
      "Category\n",
      "19    120\n",
      "8     120\n",
      "23    120\n",
      "0     120\n",
      "5     120\n",
      "7     120\n",
      "18    120\n",
      "14    120\n",
      "6     120\n",
      "20    120\n",
      "4     120\n",
      "16    120\n",
      "13    120\n",
      "17    120\n",
      "9     120\n",
      "2     120\n",
      "3     120\n",
      "11    120\n",
      "22    120\n",
      "21    120\n",
      "12    120\n",
      "15    120\n",
      "10    120\n",
      "1     120\n",
      "Name: count, dtype: int64\n"
     ]
    },
    {
     "name": "stderr",
     "output_type": "stream",
     "text": [
      "C:\\Users\\velur\\AppData\\Local\\Temp\\ipykernel_1368\\1222719187.py:9: DeprecationWarning: DataFrameGroupBy.apply operated on the grouping columns. This behavior is deprecated, and in a future version of pandas the grouping columns will be excluded from the operation. Either pass `include_groups=False` to exclude the groupings or explicitly select the grouping columns after groupby to silence this warning.\n",
      "  balanced_df = df1.groupby('Category').apply(lambda x: x.sample(max_size, replace=True)).reset_index(drop=True)\n"
     ]
    }
   ],
   "source": [
    "# Check the original category distribution\n",
    "print(\"Original Category Distribution:\")\n",
    "print(df1['Category'].value_counts())\n",
    "\n",
    "# Get the largest category size (i.e., the category with the maximum number of entries)\n",
    "max_size = df1['Category'].value_counts().max()\n",
    "\n",
    "# Perform oversampling\n",
    "balanced_df = df1.groupby('Category').apply(lambda x: x.sample(max_size, replace=True)).reset_index(drop=True)\n",
    "\n",
    "# Shuffle the dataset to avoid any order bias\n",
    "df1 = balanced_df.sample(frac=1).reset_index(drop=True)\n",
    "\n",
    "# Check the balanced category distribution\n",
    "print(\"\\nBalanced Category Distribution (After Oversampling):\")\n",
    "print(df1['Category'].value_counts())"
   ]
  },
  {
   "cell_type": "code",
   "execution_count": 30,
   "id": "43d70826-b23f-4cb8-b2ab-baa392dc1f2a",
   "metadata": {},
   "outputs": [
    {
     "data": {
      "text/plain": [
       "Category\n",
       "19    120\n",
       "8     120\n",
       "23    120\n",
       "0     120\n",
       "5     120\n",
       "7     120\n",
       "18    120\n",
       "14    120\n",
       "6     120\n",
       "20    120\n",
       "4     120\n",
       "16    120\n",
       "13    120\n",
       "17    120\n",
       "9     120\n",
       "2     120\n",
       "3     120\n",
       "11    120\n",
       "22    120\n",
       "21    120\n",
       "12    120\n",
       "15    120\n",
       "10    120\n",
       "1     120\n",
       "Name: count, dtype: int64"
      ]
     },
     "execution_count": 30,
     "metadata": {},
     "output_type": "execute_result"
    }
   ],
   "source": [
    "df1[\"Category\"].value_counts()"
   ]
  },
  {
   "cell_type": "markdown",
   "id": "5dd41df3-9174-4e4b-b420-ece644389f41",
   "metadata": {},
   "source": [
    "# Vectorization"
   ]
  },
  {
   "cell_type": "code",
   "execution_count": 42,
   "id": "f16ae381-e063-4f6d-872e-0cf9b155aea8",
   "metadata": {},
   "outputs": [],
   "source": [
    "from sklearn.feature_extraction.text import TfidfVectorizer\n",
    "tfidf = TfidfVectorizer(stop_words='english')\n",
    "required_text=tfidf.fit_transform(df1[\"Resume_str\"])"
   ]
  },
  {
   "cell_type": "markdown",
   "id": "2eda0299-948d-46ef-af54-17bb3f4a1668",
   "metadata": {},
   "source": [
    "# Splitting"
   ]
  },
  {
   "cell_type": "code",
   "execution_count": 32,
   "id": "c236c1de-963e-4b52-bf0f-c570a19b2f6c",
   "metadata": {},
   "outputs": [],
   "source": [
    "from sklearn.model_selection import train_test_split\n",
    "X_train, X_test, y_train, y_test = train_test_split(required_text, df1['Category'], test_size=0.2, random_state=42)"
   ]
  },
  {
   "cell_type": "code",
   "execution_count": 39,
   "id": "eada26cd-db23-4dcd-ab83-c40ea932402a",
   "metadata": {},
   "outputs": [
    {
     "data": {
      "text/plain": [
       "(2304, 30261)"
      ]
     },
     "execution_count": 39,
     "metadata": {},
     "output_type": "execute_result"
    }
   ],
   "source": [
    "X_train.shape"
   ]
  },
  {
   "cell_type": "code",
   "execution_count": 34,
   "id": "e6af37be-eccb-4824-85e3-5bf30d3c636d",
   "metadata": {},
   "outputs": [
    {
     "data": {
      "text/plain": [
       "(576, 30261)"
      ]
     },
     "execution_count": 34,
     "metadata": {},
     "output_type": "execute_result"
    }
   ],
   "source": [
    "X_test.shape"
   ]
  },
  {
   "cell_type": "markdown",
   "id": "eee7f65a-feb0-49e9-b5a8-cbad97873086",
   "metadata": {},
   "source": [
    "# Now let’s train the model and print the classification report:\n"
   ]
  },
  {
   "cell_type": "code",
   "execution_count": 35,
   "id": "6e4dd127-117e-4b7a-8eec-a9b60c6d5664",
   "metadata": {},
   "outputs": [],
   "source": [
    "from sklearn.neighbors import KNeighborsClassifier\n",
    "from sklearn.svm import SVC\n",
    "from sklearn.ensemble import RandomForestClassifier\n",
    "from sklearn.linear_model import LogisticRegression\n",
    "from sklearn.naive_bayes import GaussianNB\n",
    "from sklearn.multiclass import OneVsRestClassifier\n",
    "from sklearn.metrics import accuracy_score, confusion_matrix, classification_report"
   ]
  },
  {
   "cell_type": "code",
   "execution_count": 42,
   "id": "281c174f-4ce8-44f5-a195-ca663dab14f2",
   "metadata": {},
   "outputs": [],
   "source": [
    "# Ensure that X_train and X_test are dense if they are sparse\n",
    "X_train = X_train.toarray() if hasattr(X_train, 'toarray') else X_train\n",
    "X_test = X_test.toarray() if hasattr(X_test, 'toarray') else X_test"
   ]
  },
  {
   "cell_type": "code",
   "execution_count": 43,
   "id": "7ffd420b-c54e-40f1-b289-33c29daa3e4c",
   "metadata": {},
   "outputs": [
    {
     "data": {
      "text/plain": [
       "252      2\n",
       "1808    20\n",
       "1426    22\n",
       "964     15\n",
       "2602    17\n",
       "        ..\n",
       "1638    10\n",
       "1095     0\n",
       "1130    12\n",
       "1294     6\n",
       "860     22\n",
       "Name: Category, Length: 2304, dtype: int32"
      ]
     },
     "execution_count": 43,
     "metadata": {},
     "output_type": "execute_result"
    }
   ],
   "source": [
    "y_train"
   ]
  },
  {
   "cell_type": "code",
   "execution_count": 44,
   "id": "80e8e0c0-ebf2-45fd-89d7-1b5357eadc0c",
   "metadata": {},
   "outputs": [
    {
     "name": "stdout",
     "output_type": "stream",
     "text": [
      "\n",
      "KNeighborsClassifier Results:\n",
      "Accuracy: 0.6146\n",
      "Confusion Matrix:\n",
      "[[24  0  0  0  0  0  0  0  0  0  0  1  0  1  0  0  1  0  0  0  0  0  0  0]\n",
      " [ 0  6  0  0  1  3  0  0  2  0  0  0  0  0  1  0  0  0  5  0  0  0  0  0]\n",
      " [ 0  1  9  0  3  0  1  0  0  4  0  2  1  0  0  1  1  1  2  0  2  4  0  1]\n",
      " [ 0  1  0  7  0  2  0  0  0  0  0  3  1  0  1  0  3  0  1  0  0  0  4  1]\n",
      " [ 0  2  0  0  8  2  1  1  2  0  0  0  0  0  2  1  0  0  2  2  0  0  1  3]\n",
      " [ 0  0  0  0  0 18  0  0  0  0  0  0  2  0  0  1  0  0  2  1  2  0  0  0]\n",
      " [ 0  0  0  0  0  1 16  0  1  0  0  1  0  0  0  0  0  0  0  0  2  0  2  0]\n",
      " [ 0  2  3  0  0  3  0 12  3  3  0  0  0  0  1  0  1  0  2  0  1  0  0  1]\n",
      " [ 0  0  0  0  0  1  0  0 20  0  0  2  2  0  0  0  0  0  0  0  0  0  0  0]\n",
      " [ 0  0  0  0  0  0  1  0  1 13  1  0  2  0  0  0  0  0  2  0  1  0  1  0]\n",
      " [ 0  0  0  0  0  1  1  0  0  0 19  0  0  0  0  0  0  0  1  1  0  0  1  0]\n",
      " [ 1  0  0  0  0  0  0  0  0  0  0 13  1  0  0  0  0  0  0  0  0  0  0  0]\n",
      " [ 0  1  0  0  0  0  0  0  0  0  0  0  5  0  1  1  0  0  2  2  6  1  0  0]\n",
      " [ 0  0  0  2  0  2  0  0  0  0  0  1  0 15  1  0  0  0  0  0  0  0  0  0]\n",
      " [ 1  0  0  0  0  0  0  0  0  0  0  0  0  1 16  0  0  0  1  0  0  0  0  0]\n",
      " [ 0  0  0  0  0  0  0  0  0  0  0  1  0  0  0 18  0  0  0  1  0  0  0  0]\n",
      " [ 9  0  0  0  0  0  0  2  0  0  0  0  0  0  0  0 12  0  1  0  0  0  0  0]\n",
      " [ 0  1  0  0  0  0  0  0  0  0  0  0  0  0  0  1  0 17  4  0  2  0  2  0]\n",
      " [ 0  2  0  0  1  1  1  0  2  0  0  0  0  0  0  0  0  1 13  1  0  0  1  0]\n",
      " [ 0  0  0  0  0  0  0  0  0  0  0  0  0  0  0  0  0  0  0 22  0  0  0  0]\n",
      " [ 0  0  0  0  0  1  0  0  0  0  0  0  2  2  0  0  1  1  1  0 23  0  0  0]\n",
      " [ 0  1  0  0  0  0  0  0  0  0  0  0  1  1  0  0  0  0  0  0  0 18  5  0]\n",
      " [ 0  5  0  0  0  2  0  0  1  0  0  1  0  0  0  0  0  0  2  0  0  0  9  0]\n",
      " [ 1  0  0  0  4  0  0  0  0  0  0  1  0  0  0  0  0  0  1  0  0  0  0 21]]\n",
      "Classification Report:\n",
      "              precision    recall  f1-score   support\n",
      "\n",
      "           0       0.67      0.89      0.76        27\n",
      "           1       0.27      0.33      0.30        18\n",
      "           2       0.75      0.27      0.40        33\n",
      "           3       0.78      0.29      0.42        24\n",
      "           4       0.47      0.30      0.36        27\n",
      "           5       0.49      0.69      0.57        26\n",
      "           6       0.76      0.70      0.73        23\n",
      "           7       0.80      0.38      0.51        32\n",
      "           8       0.62      0.80      0.70        25\n",
      "           9       0.65      0.59      0.62        22\n",
      "          10       0.95      0.79      0.86        24\n",
      "          11       0.50      0.87      0.63        15\n",
      "          12       0.29      0.26      0.28        19\n",
      "          13       0.75      0.71      0.73        21\n",
      "          14       0.70      0.84      0.76        19\n",
      "          15       0.78      0.90      0.84        20\n",
      "          16       0.63      0.50      0.56        24\n",
      "          17       0.85      0.63      0.72        27\n",
      "          18       0.31      0.57      0.40        23\n",
      "          19       0.73      1.00      0.85        22\n",
      "          20       0.59      0.74      0.66        31\n",
      "          21       0.78      0.69      0.73        26\n",
      "          22       0.35      0.45      0.39        20\n",
      "          23       0.78      0.75      0.76        28\n",
      "\n",
      "    accuracy                           0.61       576\n",
      "   macro avg       0.64      0.62      0.61       576\n",
      "weighted avg       0.65      0.61      0.61       576\n",
      "\n"
     ]
    }
   ],
   "source": [
    "# 1. Train KNeighborsClassifier\n",
    "knn_model = OneVsRestClassifier(KNeighborsClassifier())\n",
    "knn_model.fit(X_train, y_train)\n",
    "y_pred_knn = knn_model.predict(X_test)\n",
    "print(\"\\nKNeighborsClassifier Results:\")\n",
    "print(f\"Accuracy: {accuracy_score(y_test, y_pred_knn):.4f}\")\n",
    "print(f\"Confusion Matrix:\\n{confusion_matrix(y_test, y_pred_knn)}\")\n",
    "print(f\"Classification Report:\\n{classification_report(y_test, y_pred_knn)}\")"
   ]
  },
  {
   "cell_type": "code",
   "execution_count": 47,
   "id": "aac6baab-907d-4f1f-8442-da534210ddd4",
   "metadata": {},
   "outputs": [
    {
     "name": "stdout",
     "output_type": "stream",
     "text": [
      "\n",
      "SVC Results:\n",
      "Accuracy: 0.8854\n",
      "Confusion Matrix:\n",
      "[[24  0  0  0  0  0  0  0  0  0  0  1  0  0  0  0  2  0  0  0  0  0  0  0]\n",
      " [ 0 11  0  0  0  1  0  0  0  0  0  0  0  0  0  2  0  0  3  0  0  0  1  0]\n",
      " [ 0  0 27  0  0  0  0  0  0  0  0  0  0  0  0  1  1  0  0  0  0  4  0  0]\n",
      " [ 0  0  0 18  1  0  0  0  0  0  0  1  0  0  0  0  2  0  0  0  0  0  2  0]\n",
      " [ 0  1  0  0 13  0  0  0  0  0  0  0  0  0  0  1  0  1  3  1  2  0  0  5]\n",
      " [ 0  0  0  0  0 26  0  0  0  0  0  0  0  0  0  0  0  0  0  0  0  0  0  0]\n",
      " [ 0  0  0  0  0  0 22  0  0  0  0  0  0  0  0  0  0  0  0  0  1  0  0  0]\n",
      " [ 0  0  0  0  0  0  0 26  0  0  0  0  0  0  0  0  3  0  0  0  1  2  0  0]\n",
      " [ 0  0  0  0  0  0  0  0 25  0  0  0  0  0  0  0  0  0  0  0  0  0  0  0]\n",
      " [ 0  0  0  1  0  0  0  1  0 19  1  0  0  0  0  0  0  0  0  0  0  0  0  0]\n",
      " [ 0  0  0  0  0  0  1  0  0  0 22  0  0  0  0  0  0  0  0  1  0  0  0  0]\n",
      " [ 1  0  0  0  0  0  0  0  0  0  0 14  0  0  0  0  0  0  0  0  0  0  0  0]\n",
      " [ 0  0  0  0  0  0  0  0  0  0  0  0 17  0  0  0  0  0  1  0  1  0  0  0]\n",
      " [ 0  0  0  0  0  0  0  0  0  0  0  0  0 21  0  0  0  0  0  0  0  0  0  0]\n",
      " [ 0  0  0  0  0  0  0  0  0  0  0  0  0  0 18  0  0  0  0  0  0  1  0  0]\n",
      " [ 0  0  0  0  0  0  0  0  0  0  0  0  0  0  0 20  0  0  0  0  0  0  0  0]\n",
      " [ 2  0  0  0  0  0  0  1  0  0  0  0  0  0  0  0 21  0  0  0  0  0  0  0]\n",
      " [ 0  0  0  0  0  0  0  0  0  1  0  0  0  0  0  0  0 26  0  0  0  0  0  0]\n",
      " [ 0  0  0  0  0  0  0  0  0  0  0  0  0  0  0  0  0  0 22  1  0  0  0  0]\n",
      " [ 0  0  0  0  0  0  0  0  0  0  0  0  0  0  0  0  0  0  0 22  0  0  0  0]\n",
      " [ 0  0  0  0  0  0  0  0  0  0  0  0  0  0  2  0  0  1  0  0 28  0  0  0]\n",
      " [ 0  0  0  0  0  0  0  0  0  0  0  0  0  0  0  0  1  0  0  0  0 25  0  0]\n",
      " [ 0  0  0  0  0  0  0  0  0  0  0  1  0  0  0  0  0  0  0  0  0  0 19  0]\n",
      " [ 0  1  2  0  0  0  0  0  0  0  0  0  0  0  0  1  0  0  0  0  0  0  0 24]]\n",
      "Classification Report:\n",
      "              precision    recall  f1-score   support\n",
      "\n",
      "           0       0.89      0.89      0.89        27\n",
      "           1       0.85      0.61      0.71        18\n",
      "           2       0.93      0.82      0.87        33\n",
      "           3       0.95      0.75      0.84        24\n",
      "           4       0.93      0.48      0.63        27\n",
      "           5       0.96      1.00      0.98        26\n",
      "           6       0.96      0.96      0.96        23\n",
      "           7       0.93      0.81      0.87        32\n",
      "           8       1.00      1.00      1.00        25\n",
      "           9       0.95      0.86      0.90        22\n",
      "          10       0.96      0.92      0.94        24\n",
      "          11       0.82      0.93      0.88        15\n",
      "          12       1.00      0.89      0.94        19\n",
      "          13       1.00      1.00      1.00        21\n",
      "          14       0.90      0.95      0.92        19\n",
      "          15       0.80      1.00      0.89        20\n",
      "          16       0.70      0.88      0.78        24\n",
      "          17       0.93      0.96      0.95        27\n",
      "          18       0.76      0.96      0.85        23\n",
      "          19       0.88      1.00      0.94        22\n",
      "          20       0.85      0.90      0.88        31\n",
      "          21       0.78      0.96      0.86        26\n",
      "          22       0.86      0.95      0.90        20\n",
      "          23       0.83      0.86      0.84        28\n",
      "\n",
      "    accuracy                           0.89       576\n",
      "   macro avg       0.89      0.89      0.88       576\n",
      "weighted avg       0.89      0.89      0.88       576\n",
      "\n"
     ]
    }
   ],
   "source": [
    "# 2. Train SVC\n",
    "svc_model = OneVsRestClassifier(SVC())\n",
    "svc_model.fit(X_train, y_train)\n",
    "y_pred_svc = svc_model.predict(X_test)\n",
    "print(\"\\nSVC Results:\")\n",
    "print(f\"Accuracy: {accuracy_score(y_test, y_pred_svc):.4f}\")\n",
    "print(f\"Confusion Matrix:\\n{confusion_matrix(y_test, y_pred_svc)}\")\n",
    "print(f\"Classification Report:\\n{classification_report(y_test, y_pred_svc)}\")"
   ]
  },
  {
   "cell_type": "code",
   "execution_count": 46,
   "id": "735eaab5-8fa0-4887-988d-c6fc39c9f100",
   "metadata": {},
   "outputs": [
    {
     "name": "stdout",
     "output_type": "stream",
     "text": [
      "\n",
      "RandomForestClassifier Results:\n",
      "Accuracy: 0.8646\n",
      "Confusion Matrix:\n",
      "[[25  0  0  0  0  0  0  1  0  0  0  1  0  0  0  0  0  0  0  0  0  0  0  0]\n",
      " [ 0 15  0  0  0  0  0  0  0  0  0  0  0  0  0  0  0  0  2  0  0  0  1  0]\n",
      " [ 0  0 32  0  0  0  0  0  0  0  0  0  0  0  0  0  1  0  0  0  0  0  0  0]\n",
      " [ 0  0  0 19  0  0  0  0  0  0  0  1  0  0  0  0  2  0  0  0  0  0  1  1]\n",
      " [ 0  0  0  0 11  0  0  0  0  0  0  1  1  0  0  2  0  3  2  1  1  0  0  5]\n",
      " [ 0  0  1  0  0 25  0  0  0  0  0  0  0  0  0  0  0  0  0  0  0  0  0  0]\n",
      " [ 0  0  0  0  0  0 22  0  0  0  0  0  0  0  0  0  0  0  0  0  0  0  1  0]\n",
      " [ 0  0  0  0  0  0  0 26  0  0  0  0  0  0  0  0  3  0  0  0  1  2  0  0]\n",
      " [ 0  0  0  0  0  0  0  0 25  0  0  0  0  0  0  0  0  0  0  0  0  0  0  0]\n",
      " [ 0  0  0  1  0  0  0  0  0 18  1  0  0  1  0  0  0  0  0  0  0  0  1  0]\n",
      " [ 0  0  0  0  0  0  1  0  0  0 22  0  0  0  0  0  0  0  0  1  0  0  0  0]\n",
      " [ 1  0  0  0  0  0  0  0  0  0  0 14  0  0  0  0  0  0  0  0  0  0  0  0]\n",
      " [ 0  0  0  0  0  0  0  0  0  0  0  0 16  0  0  0  0  0  1  0  2  0  0  0]\n",
      " [ 0  0  0  1  0  0  0  0  0  0  1  0  0 19  0  0  0  0  0  0  0  0  0  0]\n",
      " [ 0  0  0  0  0  0  0  0  0  0  0  0  0  0 18  0  0  0  0  0  0  1  0  0]\n",
      " [ 0  0  0  0  0  0  0  0  0  0  0  0  0  0  0 20  0  0  0  0  0  0  0  0]\n",
      " [ 5  0  0  0  0  0  0  1  0  0  0  0  0  0  0  0 17  0  0  1  0  0  0  0]\n",
      " [ 0  0  0  0  0  0  0  0  0  1  0  0  0  0  0  0  0 25  0  0  0  0  1  0]\n",
      " [ 0  2  0  0  0  0  0  0  0  0  0  0  0  0  0  0  0  1 19  1  0  0  0  0]\n",
      " [ 0  0  0  0  0  0  0  0  0  0  0  0  1  0  0  0  0  0  0 21  0  0  0  0]\n",
      " [ 0  0  0  0  0  0  0  0  0  0  0  0  0  0  1  1  0  0  0  0 29  0  0  0]\n",
      " [ 0  0  0  0  0  0  0  0  0  0  0  0  0  0  0  0  0  1  0  0  0 25  0  0]\n",
      " [ 0  0  0  0  0  0  0  0  0  3  2  1  0  0  2  0  0  0  0  0  0  0 12  0]\n",
      " [ 0  0  2  0  0  0  0  0  0  0  2  1  0  0  0  0  0  0  0  0  0  0  0 23]]\n",
      "Classification Report:\n",
      "              precision    recall  f1-score   support\n",
      "\n",
      "           0       0.81      0.93      0.86        27\n",
      "           1       0.88      0.83      0.86        18\n",
      "           2       0.91      0.97      0.94        33\n",
      "           3       0.90      0.79      0.84        24\n",
      "           4       1.00      0.41      0.58        27\n",
      "           5       1.00      0.96      0.98        26\n",
      "           6       0.96      0.96      0.96        23\n",
      "           7       0.93      0.81      0.87        32\n",
      "           8       1.00      1.00      1.00        25\n",
      "           9       0.82      0.82      0.82        22\n",
      "          10       0.79      0.92      0.85        24\n",
      "          11       0.74      0.93      0.82        15\n",
      "          12       0.89      0.84      0.86        19\n",
      "          13       0.95      0.90      0.93        21\n",
      "          14       0.86      0.95      0.90        19\n",
      "          15       0.87      1.00      0.93        20\n",
      "          16       0.74      0.71      0.72        24\n",
      "          17       0.83      0.93      0.88        27\n",
      "          18       0.79      0.83      0.81        23\n",
      "          19       0.84      0.95      0.89        22\n",
      "          20       0.88      0.94      0.91        31\n",
      "          21       0.89      0.96      0.93        26\n",
      "          22       0.71      0.60      0.65        20\n",
      "          23       0.79      0.82      0.81        28\n",
      "\n",
      "    accuracy                           0.86       576\n",
      "   macro avg       0.87      0.86      0.86       576\n",
      "weighted avg       0.87      0.86      0.86       576\n",
      "\n"
     ]
    }
   ],
   "source": [
    "# 3. Train RandomForestClassifier\n",
    "rf_model = OneVsRestClassifier(RandomForestClassifier())\n",
    "rf_model.fit(X_train, y_train)\n",
    "y_pred_rf = rf_model.predict(X_test)\n",
    "print(\"\\nRandomForestClassifier Results:\")\n",
    "print(f\"Accuracy: {accuracy_score(y_test, y_pred_rf):.4f}\")\n",
    "print(f\"Confusion Matrix:\\n{confusion_matrix(y_test, y_pred_rf)}\")\n",
    "print(f\"Classification Report:\\n{classification_report(y_test, y_pred_rf)}\")"
   ]
  },
  {
   "cell_type": "code",
   "execution_count": 49,
   "id": "b64527e2-32a2-474c-b485-82239212ae18",
   "metadata": {},
   "outputs": [],
   "source": [
    "X_train = X_train.toarray() if hasattr(X_train, 'toarray') else X_train\n",
    "X_test = X_test.toarray() if hasattr(X_test, 'toarray') else X_test"
   ]
  },
  {
   "cell_type": "code",
   "execution_count": 50,
   "id": "f5707ee3-3b93-4b79-bbd8-795c399a16fa",
   "metadata": {},
   "outputs": [
    {
     "name": "stdout",
     "output_type": "stream",
     "text": [
      "\n",
      "GausianNB Results:\n",
      "Accuracy: 0.7517\n",
      "Confusion Matrix:\n",
      "[[14  0  1  0  0  0  0  4  0  0  0  1  4  0  0  0  2  0  0  1  0  0  0  0]\n",
      " [ 0 10  0  0  0  0  0  0  0  1  0  0  0  2  0  0  0  0  4  0  0  0  1  0]\n",
      " [ 1  0 24  0  3  0  0  0  0  0  0  1  0  0  0  0  0  0  0  0  0  4  0  0]\n",
      " [ 0  1  0 16  0  0  1  0  0  0  0  1  2  0  0  0  0  1  0  0  0  0  2  0]\n",
      " [ 0  1  0  0 13  0  1  0  0  0  0  2  1  0  0  1  0  3  1  1  0  0  0  3]\n",
      " [ 0  0  1  0  0 25  0  0  0  0  0  0  0  0  0  0  0  0  0  0  0  0  0  0]\n",
      " [ 0  0  0  0  0  0 20  0  0  0  0  1  1  0  0  1  0  0  0  0  0  0  0  0]\n",
      " [ 0  2  0  0  0  0  0 18  0  1  0  3  1  0  0  0  0  4  0  0  1  2  0  0]\n",
      " [ 0  0  0  0  0  0  0  0 25  0  0  0  0  0  0  0  0  0  0  0  0  0  0  0]\n",
      " [ 0  0  0  1  0  0  0  0  0 15  1  0  2  0  1  1  0  1  0  0  0  0  0  0]\n",
      " [ 0  1  0  0  0  0  1  0  0  0 21  1  0  0  0  0  0  0  0  0  0  0  0  0]\n",
      " [ 0  0  0  0  0  0  0  0  0  0  0 14  0  0  0  0  1  0  0  0  0  0  0  0]\n",
      " [ 0  0  0  0  0  0  0  0  0  0  0  0 16  0  0  0  0  0  1  0  2  0  0  0]\n",
      " [ 0  0  0  0  1  0  0  0  0  0  0  0  0 16  0  1  0  0  0  1  0  1  0  1]\n",
      " [ 0  0  0  0  1  0  0  0  0  0  0  0  0  1 14  0  0  0  0  0  0  3  0  0]\n",
      " [ 0  0  1  0  0  0  2  0  0  0  0  1  0  0  0 16  0  0  0  0  0  0  0  0]\n",
      " [ 1  1  0  0  0  0  0  1  0  0  0  0  0  0  0  0 20  0  0  1  0  0  0  0]\n",
      " [ 0  1  0  1  0  0  0  1  0  1  0  0  0  0  0  0  0 23  0  0  0  0  0  0]\n",
      " [ 0  0  0  0  0  0  0  0  0  0  0  0  0  0  0  0  0  0 21  2  0  0  0  0]\n",
      " [ 0  0  0  0  0  0  0  0  0  0  0  0  0  0  0  1  0  0  0 21  0  0  0  0]\n",
      " [ 0  0  0  0  0  0  0  0  0  0  0  0  8  0  0  4  0  0  0  0 18  0  0  1]\n",
      " [ 0  1  0  0  0  0  0  0  0  0  0  0  0  0  0  0  0  0  1  0  0 24  0  0]\n",
      " [ 0  0  0  0  0  0  0  0  0  4  3  2  0  0  0  0  0  0  0  0  0  0 11  0]\n",
      " [ 0  2  3  0  0  0  1  0  0  0  0  0  0  0  0  1  0  2  1  0  0  0  0 18]]\n",
      "Classification Report:\n",
      "              precision    recall  f1-score   support\n",
      "\n",
      "           0       0.88      0.52      0.65        27\n",
      "           1       0.50      0.56      0.53        18\n",
      "           2       0.80      0.73      0.76        33\n",
      "           3       0.89      0.67      0.76        24\n",
      "           4       0.72      0.48      0.58        27\n",
      "           5       1.00      0.96      0.98        26\n",
      "           6       0.77      0.87      0.82        23\n",
      "           7       0.75      0.56      0.64        32\n",
      "           8       1.00      1.00      1.00        25\n",
      "           9       0.68      0.68      0.68        22\n",
      "          10       0.84      0.88      0.86        24\n",
      "          11       0.52      0.93      0.67        15\n",
      "          12       0.46      0.84      0.59        19\n",
      "          13       0.84      0.76      0.80        21\n",
      "          14       0.93      0.74      0.82        19\n",
      "          15       0.62      0.80      0.70        20\n",
      "          16       0.87      0.83      0.85        24\n",
      "          17       0.68      0.85      0.75        27\n",
      "          18       0.72      0.91      0.81        23\n",
      "          19       0.78      0.95      0.86        22\n",
      "          20       0.86      0.58      0.69        31\n",
      "          21       0.71      0.92      0.80        26\n",
      "          22       0.79      0.55      0.65        20\n",
      "          23       0.78      0.64      0.71        28\n",
      "\n",
      "    accuracy                           0.75       576\n",
      "   macro avg       0.77      0.76      0.75       576\n",
      "weighted avg       0.78      0.75      0.75       576\n",
      "\n"
     ]
    }
   ],
   "source": [
    "GausianNB = GaussianNB()\n",
    "GausianNB.fit(X_train, y_train)\n",
    "Gausian_pred=GausianNB.predict(X_test)\n",
    "print(\"\\nGausianNB Results:\")\n",
    "print(f\"Accuracy: {accuracy_score(y_test, Gausian_pred):.4f}\")\n",
    "print(f\"Confusion Matrix:\\n{confusion_matrix(y_test, Gausian_pred)}\")\n",
    "print(f\"Classification Report:\\n{classification_report(y_test, Gausian_pred)}\")"
   ]
  },
  {
   "cell_type": "markdown",
   "id": "c814b680-290d-4086-bda3-cd4bd91bd841",
   "metadata": {},
   "source": [
    "# Save Files\n"
   ]
  },
  {
   "cell_type": "code",
   "execution_count": 51,
   "id": "23213f7f-06fd-4768-a63d-55f7fd5caefa",
   "metadata": {},
   "outputs": [],
   "source": [
    "import pickle\n",
    "pickle.dump(tfidf,open('tfidf.pkl','wb'))\n",
    "pickle.dump(svc_model, open('clf.pkl', 'wb'))\n",
    "pickle.dump(le, open(\"encoder.pkl\",'wb'))"
   ]
  },
  {
   "cell_type": "code",
   "execution_count": 52,
   "id": "4fef321a-a962-4209-9ccd-737c8fb37742",
   "metadata": {},
   "outputs": [],
   "source": [
    "# Function to predict the category of a resume\n",
    "def pred(input_resume):\n",
    "    # Preprocess the input text (e.g., cleaning, etc.)\n",
    "    cleaned_text = cleanResume(input_resume) \n",
    "\n",
    "    # Vectorize the cleaned text using the same TF-IDF vectorizer used during training\n",
    "    vectorized_text = tfidf.transform([cleaned_text])\n",
    "    \n",
    "    # Convert sparse matrix to dense\n",
    "    vectorized_text = vectorized_text.toarray()\n",
    "\n",
    "    # Prediction\n",
    "    predicted_category = svc_model.predict(vectorized_text)\n",
    "\n",
    "    # get name of predicted category\n",
    "    predicted_category_name = le.inverse_transform(predicted_category)\n",
    "\n",
    "    return predicted_category_name[0]  # Return the category name"
   ]
  },
  {
   "cell_type": "code",
   "execution_count": 53,
   "id": "433532b9-698d-4652-a21a-5e859ed5208e",
   "metadata": {},
   "outputs": [
    {
     "data": {
      "text/plain": [
       "'AVIATION'"
      ]
     },
     "execution_count": 53,
     "metadata": {},
     "output_type": "execute_result"
    }
   ],
   "source": [
    "my_resume = \"\"\"PURCHASER / PRODUCTION COORDINATOR\n",
    " Professional Profile\n",
    " Productive, quality oriented professional eager to contribute comprehensive skils toward actively supporting a progressive organization as a key\n",
    " team member. Featured Skils x Expedite / AOG / Logistics x Customer Service x Finance / Accounting x Sales x Purchasing x Inventory Control\n",
    " x Stores / Warehouse x Management x Shipping x Receiving x Bookkeeping Ability to act independently to determine methods and procedures on\n",
    " new assignments. * Ability to respond consistently with a high degree of initiative to resolve issues or complex problems that may arise. * Ability to\n",
    " maintain positive company image and brand. * Ability to perform work accurately and thoroughly. * Eficient organization and time-management\n",
    " skils. * Ability to prioritize tasks and meet deadlines. * A courteous and professional demeanor. * Strong negotiation skils * Ability to work wel\n",
    " under pressure * Intermediate to advanced computer skils. Proficient with MS O fice suite and other work-related software. Additional\n",
    " Comments I have been working in the Aviation industry for 12 years now and bring with me a total on 15 years of experience that makes me a\n",
    " wel-seasoned professional. I bring with me experience of working with commercial, military, charter, and prototype aircraft. I am experienced and\n",
    " knowledgeable with Boeing, Airbus, Bombardier, Dornier, and Lockheed and have proven myself to be both versatile when working with various\n",
    " aircraft makes & customers.\n",
    " Experience\n",
    " January 2011\n",
    " to\n",
    " Current\n",
    " Company Name City , State Purchaser / Production Coordinator\n",
    " My journey at Flightstar began with production coordinating, where I was responsible for interfacing with leads, project managers, and\n",
    " customer representatives regarding aircraft documentation, parts status, and any problems that may a fect the delivery schedule.\n",
    " In this position I was responsible for aircraft paperwork and work cards during the maintenance visits.\n",
    " I worked one on one with purchasing to ensure the proper communication of parts that could a fect aircraft delivery and help expedite these\n",
    " parts as necessary.\n",
    " When services were required either in house or items being sent out for any kind of testing or repair, I would provide complete and accurate\n",
    " paperwork to purchasing.\n",
    " Daily reporting of parts statuses, man hours, and aircraft schedule was a daily task.\n",
    " Being a coordinator first and already having experience in purchasing made my transition to a buyer smooth since I could now work more\n",
    " closely with the coordinators with each of us able to support one another be ter with part status updates and any paperwork issues.\n",
    " Like coordinators I have to interface with leads, project managers, and customer representatives.\n",
    " In addition I have to communicate between various departments at FAS such accounting to make sure that material is paid and biled\n",
    " accurately as wel as quality to make sure that the parts purchase are up to standard and come from an approved source.\n",
    " Being on both sides of the fence I know see that coordinators spend more time corresponding between the diferent areas of the job where\n",
    " buyers spend more time on parts themselves.\n",
    " Purchasers are responsible for every part purchased or requested and Have the sole responsibility of resolving any materials needed.\n",
    " I have to not only purchase the parts but also validate the paperwork or trace is acceptable and legal.\n",
    " If it isn't, resolve any rejected parts by means of returns and credits.\n",
    " Buyers are responsible for expediting al orders and making sure that they are received as needed.\n",
    " We then report this information to the coordinators and project managers as necessary.\n",
    " Outside vendor interaction is a big part of purchasing and we have to form business relationships to e fectively perform or duties.\n",
    " In addition I am responsible for meeting standards and performance metrics within the company to make that we are functioning at an\n",
    " industry standard to rise above the competition.\n",
    " Purchasing is also responsible for cost savings such engaging in supplier contracts and rebate programs.\n",
    " These savings of course benefits everyone on the company.\n",
    " Purchasers are a point of contact between FAS, suppliers, and customers regarding materials so e fective communication and reporting is\n",
    " key in this position.\n",
    " February 2009\n",
    " to\n",
    " December 2010\n",
    " Company Name City , State Purchasing Clerk / Material Specialist\n",
    " Working with Vision Airlines included a lot of diferent responsibilities.\n",
    " Not only was I responsible for quoting and purchasing materials for both Aircraft and Stock, but also included Stores / Warehouse,\n",
    " Shipping, and Receiving responsibilities.\n",
    " Being a smaler Airline I work closely with the Executive sta f as wel as the owners of the company themselves.\n",
    " After receiving a Material Order Request, I would acquire the necessary quotes to find the best price and lead time available.\n",
    " If needed, get approval to proceed with the order.\n",
    " Coordinate and expedite the shipping and payment process to get the material where it needs to be in a timely manner.\n",
    " I would match invoice with purchase orders and track shipments to assure their arrival.\n",
    " Upon receipt of material, I then would verify proper certification of the material, receive into the system, and label as required.\n",
    " Once material is ready to be used, issue from the system to assure al records was correct.\n",
    " Al of this required constant tracking using Excel, Word, and Adobe.\n",
    " I kept records of al transactions whether it was materials needing to be ordered, Purchase Orders themselves, Invoices needing to be paid,\n",
    " or items that that have already been received.\n",
    " As wel as certifications and any other information requested from maintenance.\n",
    "If an item needed to be shipped I was responsible for the proper packaging, handling, and traceability to be done in a professional manner.\n",
    " As part of the AOG team I would be caled on at any time to locate and facilitate the material where the urgent requirement may be.\n",
    " This involved having key information to acquire the material and coordinate with the proper logistics necessary.\n",
    " Also as a valued member of the material group I have represented the Airline at maintenance facilities to properly manage the material being\n",
    " ordered and used for an Aircraft.\n",
    " February 2005\n",
    " to\n",
    " January 2009\n",
    " Company Name City , State Purchasing Agent / Material Expeditor\n",
    " I started working as a Material Expeditor which required me to work closely with Purchasing, Maintenance, and the Airline.\n",
    " Being an Expeditor had responsibilities that could change day by day depending on what was required of me.\n",
    " I provided daily reports and expedited any material needed to keep the production process flowing e ficiently.\n",
    " This meant coordinating the order and shipment process, as wel as the actual delivery of the material.\n",
    " My responsibility as a Purchasing Agent is to find price and availability on material needed and then order and track for prompt shipment.\n",
    " This requires me to deal directly with the vendors and develop relationships for future business.\n",
    " I also retrieve any and al paperwork required, retrieving certification, submit any and al signatures necessary, and expedite the material in a\n",
    " timely fashion.\n",
    " Once I have received the material I then facilitate and expedite the flow of materials to and from various departments.\n",
    " I have worked with many diferent Airline companies as wel as Military, which al have high and demanding standards to meet.\n",
    " With this job no two days are the same, it is a constant change with chalenging obstacles.\n",
    " In addition to being a Buyer and Expeditor, I was responsible for doing spare Sales to sister and contract companies.\n",
    " This required the technique of verifying stock, quoting material, ensuring proper certification, and shipping.\n",
    " Between the three job functions I was constantly providing and coordinating AOG orders support.\n",
    " Clientlogic (DELL).\n",
    " Education\n",
    " 1/2010\n",
    " Transportation Dangerous Goods Development Group Training Certificate\n",
    " 8/2009\n",
    " Vision Airlines Maintenance Indoctrination Course Training Certificate\n",
    " 8/2009\n",
    " Vision Airlines Reduced Vertical Separation Minimum Training Certificate (RVSM)\n",
    " 8/2008\n",
    " Lake City Test of Basic Education (TABE) Community Colege Form 9, Level A, Score 12.9\n",
    " 12/2005\n",
    " Federal Aviation Certificate of Training \"Gold Award\" Administration Maintenance Technicians Awards Program\n",
    " 5/2001\n",
    " State of Florida High School Diploma Department of Education\n",
    " Skils\n",
    " accounting, Adobe, Basic, benefits, contracts, delivery, DELL, documentation, fashion, legal, logistics, materials, Excel, Word, packaging,\n",
    " Purchasing, quality, Receiving, reporting, requirement, Sales, Shipping, Transportation, Vision\n",
    " Additional Information\n",
    " Business reference known for 9 years.\n",
    " Linkedin Profile\n",
    " www.linkedin.com/in/johnchriske\"\"\"\n",
    "pred(my_resume)"
   ]
  },
  {
   "cell_type": "code",
   "execution_count": 54,
   "id": "ec9b898f-335c-42a8-9239-507059aa16bb",
   "metadata": {},
   "outputs": [
    {
     "data": {
      "text/plain": [
       "'AGRICULTURE'"
      ]
     },
     "execution_count": 54,
     "metadata": {},
     "output_type": "execute_result"
    }
   ],
   "source": [
    "my_resume= \"\"\"John Doe\n",
    "📍 123 Greenfield Lane, Springfield, IL | 📞 (123) 456-7890 | ✉️ johndoe@email.com\n",
    "🔗 LinkedIn Profile | 🌱 Personal Portfolio\n",
    "\n",
    "🌾 Professional Summary\n",
    "Dedicated Agricultural Specialist with 5+ years of experience in crop management, soil analysis, and sustainable farming practices. Skilled in precision agriculture, pest control, and farm equipment operation. Passionate about implementing modern agricultural techniques to increase yield and efficiency while ensuring environmental sustainability.\n",
    "\n",
    "🌱 Skills & Expertise\n",
    "✅ Crop Management & Soil Analysis\n",
    "✅ Precision Agriculture & Smart Farming\n",
    "✅ Livestock Care & Veterinary Assistance\n",
    "✅ Irrigation Systems & Water Conservation\n",
    "✅ Pest & Disease Control\n",
    "✅ Farm Machinery & Equipment Operation\n",
    "✅ Supply Chain & Agricultural Marketing\n",
    "✅ Data Analysis & Record Keeping\n",
    "\n",
    "🌾 Work Experience\n",
    "Farm Manager | GreenHarvest Farms, Illinois (2020 – Present)\n",
    "Managed 200-acre farmland, optimizing crop rotation and soil fertility.\n",
    "Increased yield by 15% using precision agriculture techniques.\n",
    "Implemented sustainable pest control methods, reducing chemical use by 30%.\n",
    "Supervised a team of 10 farm workers, ensuring daily operations ran smoothly.\n",
    "Agricultural Technician | FreshField AgriTech, Iowa (2017 – 2020)\n",
    "Conducted soil and water testing to improve crop productivity.\n",
    "Assisted in livestock health management and breeding programs.\n",
    "Developed organic composting strategies, reducing farm waste by 25%.\n",
    "📚 Education\n",
    "🎓 Bachelor of Science in Agriculture – University of Illinois (2017)\n",
    "\n",
    "Certifications\n",
    "Certified Crop Advisor (CCA)\n",
    "Sustainable Agriculture Certification\n",
    "Farm Equipment Operation License\n",
    "🌾 Projects & Research\n",
    "📌 Smart Irrigation System Implementation – Designed an automated irrigation system that improved water efficiency by 40%.\n",
    "📌 Organic Farming Experiment – Led a project testing organic vs. chemical fertilizers, resulting in a 20% yield increase with organic methods.\n",
    "\n",
    "🌱 References\n",
    "Available upon request.\n",
    "\n",
    "Would you like a customized resume with a specific focus (e.g., agribusiness, livestock farming, research)? 😊\"\"\"\n",
    "pred(my_resume)"
   ]
  },
  {
   "cell_type": "code",
   "execution_count": null,
   "id": "2766bb1f-14a5-457e-bb0d-a0cb7ecfd1a6",
   "metadata": {},
   "outputs": [],
   "source": []
  }
 ],
 "metadata": {
  "kernelspec": {
   "display_name": "Python 3 (ipykernel)",
   "language": "python",
   "name": "python3"
  },
  "language_info": {
   "codemirror_mode": {
    "name": "ipython",
    "version": 3
   },
   "file_extension": ".py",
   "mimetype": "text/x-python",
   "name": "python",
   "nbconvert_exporter": "python",
   "pygments_lexer": "ipython3",
   "version": "3.12.5"
  }
 },
 "nbformat": 4,
 "nbformat_minor": 5
}
